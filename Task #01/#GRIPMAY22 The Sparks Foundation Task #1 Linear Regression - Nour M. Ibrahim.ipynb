{
 "cells": [
  {
   "cell_type": "markdown",
   "id": "2a99061e",
   "metadata": {},
   "source": [
    "# The Sparks Foundation Internship\n",
    "# Data Science and Business Analytics Intern\n",
    "## Author: Nour Mahmoud Ibrahim\n",
    "# Task 1 Prediction Using Supervisd Machine Learning\n",
    "<img src=\"https://github.com/Nour-Ibrahim-1290/The-Sparks-Foundation-Data-Science-and-Business-Analytics-Internship/blob/main/Task%20%2301/Task-02-Tech.Tasks01.PNG?raw=true">",
    "\n",
    "### Importing Necessary Libraries"
   ]
  },
  {
   "cell_type": "code",
   "execution_count": 1,
   "id": "495d3e6d",
   "metadata": {},
   "outputs": [],
   "source": [
    "# Importing Necessary main Python Libraries\n",
    "import pandas as pd\n",
    "import numpy as np\n",
    "import matplotlib.pyplot as plt\n",
    "plt.style.use(\"ggplot\")"
   ]
  },
  {
   "cell_type": "markdown",
   "id": "e910dde8",
   "metadata": {},
   "source": [
    "## Exploratory Analysis:\n",
    "### Reading Data CSV file"
   ]
  },
  {
   "cell_type": "code",
   "execution_count": 2,
   "id": "6e1d35b3",
   "metadata": {},
   "outputs": [
    {
     "data": {
      "text/plain": [
       "(25, 2)"
      ]
     },
     "execution_count": 2,
     "metadata": {},
     "output_type": "execute_result"
    }
   ],
   "source": [
    "df = pd.read_csv(\"student_scores.csv\")\n",
    "df.shape"
   ]
  },
  {
   "cell_type": "markdown",
   "id": "e7a5d68e",
   "metadata": {},
   "source": [
    "### Data has only 25 records, we'll explore it visually"
   ]
  },
  {
   "cell_type": "code",
   "execution_count": 3,
   "id": "fca59a2c",
   "metadata": {},
   "outputs": [
    {
     "data": {
      "text/html": [
       "<div>\n",
       "<style scoped>\n",
       "    .dataframe tbody tr th:only-of-type {\n",
       "        vertical-align: middle;\n",
       "    }\n",
       "\n",
       "    .dataframe tbody tr th {\n",
       "        vertical-align: top;\n",
       "    }\n",
       "\n",
       "    .dataframe thead th {\n",
       "        text-align: right;\n",
       "    }\n",
       "</style>\n",
       "<table border=\"1\" class=\"dataframe\">\n",
       "  <thead>\n",
       "    <tr style=\"text-align: right;\">\n",
       "      <th></th>\n",
       "      <th>Hours</th>\n",
       "      <th>Scores</th>\n",
       "    </tr>\n",
       "  </thead>\n",
       "  <tbody>\n",
       "    <tr>\n",
       "      <th>0</th>\n",
       "      <td>2.5</td>\n",
       "      <td>21</td>\n",
       "    </tr>\n",
       "    <tr>\n",
       "      <th>1</th>\n",
       "      <td>5.1</td>\n",
       "      <td>47</td>\n",
       "    </tr>\n",
       "    <tr>\n",
       "      <th>2</th>\n",
       "      <td>3.2</td>\n",
       "      <td>27</td>\n",
       "    </tr>\n",
       "    <tr>\n",
       "      <th>3</th>\n",
       "      <td>8.5</td>\n",
       "      <td>75</td>\n",
       "    </tr>\n",
       "    <tr>\n",
       "      <th>4</th>\n",
       "      <td>3.5</td>\n",
       "      <td>30</td>\n",
       "    </tr>\n",
       "    <tr>\n",
       "      <th>5</th>\n",
       "      <td>1.5</td>\n",
       "      <td>20</td>\n",
       "    </tr>\n",
       "    <tr>\n",
       "      <th>6</th>\n",
       "      <td>9.2</td>\n",
       "      <td>88</td>\n",
       "    </tr>\n",
       "    <tr>\n",
       "      <th>7</th>\n",
       "      <td>5.5</td>\n",
       "      <td>60</td>\n",
       "    </tr>\n",
       "    <tr>\n",
       "      <th>8</th>\n",
       "      <td>8.3</td>\n",
       "      <td>81</td>\n",
       "    </tr>\n",
       "    <tr>\n",
       "      <th>9</th>\n",
       "      <td>2.7</td>\n",
       "      <td>25</td>\n",
       "    </tr>\n",
       "    <tr>\n",
       "      <th>10</th>\n",
       "      <td>7.7</td>\n",
       "      <td>85</td>\n",
       "    </tr>\n",
       "    <tr>\n",
       "      <th>11</th>\n",
       "      <td>5.9</td>\n",
       "      <td>62</td>\n",
       "    </tr>\n",
       "    <tr>\n",
       "      <th>12</th>\n",
       "      <td>4.5</td>\n",
       "      <td>41</td>\n",
       "    </tr>\n",
       "    <tr>\n",
       "      <th>13</th>\n",
       "      <td>3.3</td>\n",
       "      <td>42</td>\n",
       "    </tr>\n",
       "    <tr>\n",
       "      <th>14</th>\n",
       "      <td>1.1</td>\n",
       "      <td>17</td>\n",
       "    </tr>\n",
       "    <tr>\n",
       "      <th>15</th>\n",
       "      <td>8.9</td>\n",
       "      <td>95</td>\n",
       "    </tr>\n",
       "    <tr>\n",
       "      <th>16</th>\n",
       "      <td>2.5</td>\n",
       "      <td>30</td>\n",
       "    </tr>\n",
       "    <tr>\n",
       "      <th>17</th>\n",
       "      <td>1.9</td>\n",
       "      <td>24</td>\n",
       "    </tr>\n",
       "    <tr>\n",
       "      <th>18</th>\n",
       "      <td>6.1</td>\n",
       "      <td>67</td>\n",
       "    </tr>\n",
       "    <tr>\n",
       "      <th>19</th>\n",
       "      <td>7.4</td>\n",
       "      <td>69</td>\n",
       "    </tr>\n",
       "    <tr>\n",
       "      <th>20</th>\n",
       "      <td>2.7</td>\n",
       "      <td>30</td>\n",
       "    </tr>\n",
       "    <tr>\n",
       "      <th>21</th>\n",
       "      <td>4.8</td>\n",
       "      <td>54</td>\n",
       "    </tr>\n",
       "    <tr>\n",
       "      <th>22</th>\n",
       "      <td>3.8</td>\n",
       "      <td>35</td>\n",
       "    </tr>\n",
       "    <tr>\n",
       "      <th>23</th>\n",
       "      <td>6.9</td>\n",
       "      <td>76</td>\n",
       "    </tr>\n",
       "    <tr>\n",
       "      <th>24</th>\n",
       "      <td>7.8</td>\n",
       "      <td>86</td>\n",
       "    </tr>\n",
       "  </tbody>\n",
       "</table>\n",
       "</div>"
      ],
      "text/plain": [
       "    Hours  Scores\n",
       "0     2.5      21\n",
       "1     5.1      47\n",
       "2     3.2      27\n",
       "3     8.5      75\n",
       "4     3.5      30\n",
       "5     1.5      20\n",
       "6     9.2      88\n",
       "7     5.5      60\n",
       "8     8.3      81\n",
       "9     2.7      25\n",
       "10    7.7      85\n",
       "11    5.9      62\n",
       "12    4.5      41\n",
       "13    3.3      42\n",
       "14    1.1      17\n",
       "15    8.9      95\n",
       "16    2.5      30\n",
       "17    1.9      24\n",
       "18    6.1      67\n",
       "19    7.4      69\n",
       "20    2.7      30\n",
       "21    4.8      54\n",
       "22    3.8      35\n",
       "23    6.9      76\n",
       "24    7.8      86"
      ]
     },
     "execution_count": 3,
     "metadata": {},
     "output_type": "execute_result"
    }
   ],
   "source": [
    "# since our data has only 25 records we'll explore the cleaness and tideness of the data manully\n",
    "df"
   ]
  },
  {
   "cell_type": "code",
   "execution_count": 4,
   "id": "1fdf3dac",
   "metadata": {},
   "outputs": [
    {
     "name": "stdout",
     "output_type": "stream",
     "text": [
      "<class 'pandas.core.frame.DataFrame'>\n",
      "RangeIndex: 25 entries, 0 to 24\n",
      "Data columns (total 2 columns):\n",
      " #   Column  Non-Null Count  Dtype  \n",
      "---  ------  --------------  -----  \n",
      " 0   Hours   25 non-null     float64\n",
      " 1   Scores  25 non-null     int64  \n",
      "dtypes: float64(1), int64(1)\n",
      "memory usage: 464.0 bytes\n"
     ]
    }
   ],
   "source": [
    "df.info()"
   ]
  },
  {
   "cell_type": "markdown",
   "id": "65b142c9",
   "metadata": {},
   "source": [
    "### The data has no missing values and no issues at all\n",
    "### We have only one feature \"Hours\" and one Target \"score\"\n",
    "\n",
    "### Let's Explore the relation of the two variables visually, since both are numercal variables the best choice is to plot a scatter."
   ]
  },
  {
   "cell_type": "code",
   "execution_count": 5,
   "id": "4074886a",
   "metadata": {},
   "outputs": [
    {
     "data": {
      "image/png": "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\n",
      "text/plain": [
       "<Figure size 432x288 with 1 Axes>"
      ]
     },
     "metadata": {},
     "output_type": "display_data"
    }
   ],
   "source": [
    "df.plot(\"Hours\", \"Scores\", style='o', color='blue')\n",
    "plt.xlabel(\"Studying Hours\")\n",
    "plt.ylabel(\"Percentage Scores\")\n",
    "plt.title(\"Hours vs  Percentage Scores\")\n",
    "plt.margins(0.02)\n",
    "plt.show();"
   ]
  },
  {
   "cell_type": "markdown",
   "id": "3fbaa0a4",
   "metadata": {},
   "source": [
    "### We can see that a highly correlated linear relation between # hours student study and the percentage of his scores.\n",
    "## Our goal is to train a Linear Regression Model to predict \"score\" based on number of \"Hours\" a student studied.\n",
    "#### Now, Let's train our Model...\n",
    "\n",
    "# Modeling:\n",
    "In this regression task we will use scikit-learn to predict the percentage of marks that a student is expected to score based upon the number of hours they studied.\n",
    "#### By:\n",
    "1. Define a LinearRegression object and Fit it.\n",
    "3. Get it's parameters and Visualize it!!\n",
    "4. Model Evaluation: use (cross_val_score) to calculate a mean and confidence interval for the models' (R squared) metric. \n",
    "5. Predict the required score.\n",
    "\n",
    "### Importing Necessary Models"
   ]
  },
  {
   "cell_type": "code",
   "execution_count": 6,
   "id": "b2275e47",
   "metadata": {},
   "outputs": [],
   "source": [
    "# Importing all necessary scikit-learn objects\n",
    "from sklearn.model_selection import cross_val_score\n",
    "from sklearn.linear_model import LinearRegression"
   ]
  },
  {
   "cell_type": "markdown",
   "id": "741c27eb",
   "metadata": {},
   "source": [
    "### Step 1: Define a Linear Regression object and Fit it\n",
    "**Note that:** you nees to reshape the features variable to be able to fit it into sklearn's LinearRegression object."
   ]
  },
  {
   "cell_type": "code",
   "execution_count": 7,
   "id": "6bba9755",
   "metadata": {},
   "outputs": [
    {
     "data": {
      "text/plain": [
       "LinearRegression()"
      ]
     },
     "execution_count": 7,
     "metadata": {},
     "output_type": "execute_result"
    }
   ],
   "source": [
    "X = df[\"Hours\"].values.reshape(-1,1)\n",
    "y = df[\"Scores\"]\n",
    "\n",
    "linreg = LinearRegression()\n",
    "linreg.fit(X, y)"
   ]
  },
  {
   "cell_type": "markdown",
   "id": "513e5e6e",
   "metadata": {},
   "source": [
    "### Step 2: Get Model parameters (Intercept and Coef) and Visualize the Regression Line"
   ]
  },
  {
   "cell_type": "code",
   "execution_count": 8,
   "id": "4449cad3",
   "metadata": {},
   "outputs": [
    {
     "data": {
      "image/png": "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\n",
      "text/plain": [
       "<Figure size 432x288 with 1 Axes>"
      ]
     },
     "metadata": {},
     "output_type": "display_data"
    }
   ],
   "source": [
    "# step 2\n",
    "# Plotting the regression line\n",
    "line = linreg.coef_*X+ linreg.intercept_\n",
    "\n",
    "# Plotting for the test data\n",
    "df.plot(\"Hours\", \"Scores\", style='o', color='blue')\n",
    "plt.plot(X, line, color='black')\n",
    "plt.xlabel(\"Studying Hours\")\n",
    "plt.ylabel(\"Percentage Score\")\n",
    "plt.title(\"Hours vs Percentage Score with Regression line\")\n",
    "plt.show();"
   ]
  },
  {
   "cell_type": "markdown",
   "id": "0515547e",
   "metadata": {},
   "source": [
    "### We can see that the regression line looks higly fitted to all data points,\n",
    "### To measure the efficiency of the Model we'll use the default metric of LinearRegression in sklearn (R squared) metric with Cross-Validation technique (5 times split)."
   ]
  },
  {
   "cell_type": "code",
   "execution_count": 9,
   "id": "a0e1428d",
   "metadata": {},
   "outputs": [
    {
     "name": "stdout",
     "output_type": "stream",
     "text": [
      "All possible values of R squared with cv=5 are :\n",
      " [0.78626426 0.97891923 0.93182467 0.96604831 0.9273292 ]\n",
      "\n",
      "Mean of all possible Scores = 0.9180771341891051\n",
      "Std = 0.06877822891279664\n",
      "95% Confidence Interval of r2: [0.80037075 0.97763214]\n"
     ]
    }
   ],
   "source": [
    "# Step 4: Model Evaluation\n",
    "scores_array = cross_val_score(linreg, X, y, cv=5)\n",
    "print(\"All possible values of R squared with cv=5 are :\\n\", scores_array)\n",
    "print(\"\\nMean of all possible Scores =\", np.mean(scores_array))\n",
    "print(\"Std =\", np.std(scores_array))\n",
    "CI = np.percentile(scores_array, [2.5,97.5])\n",
    "print(\"95% Confidence Interval of r2:\", CI)"
   ]
  },
  {
   "cell_type": "markdown",
   "id": "e49429cc",
   "metadata": {},
   "source": [
    "### The mean and CI of R squared metric \"the default metric of Linear Regression in sklearn\", inform us that the prediction of the student score will be highly accurate based upon the trained model. "
   ]
  },
  {
   "cell_type": "code",
   "execution_count": 10,
   "id": "14ffdcc0",
   "metadata": {},
   "outputs": [
    {
     "name": "stdout",
     "output_type": "stream",
     "text": [
      "No of Hours Studied = [[9.25]]\n",
      "Predicted Score = 92.9098547701573\n"
     ]
    }
   ],
   "source": [
    "# step 5: Predict Needed value\n",
    "x = np.array([9.25]).reshape(-1,1)\n",
    "y_pred = linreg.predict(x)[0]\n",
    "print(\"No of Hours Studied = {}\".format(x))\n",
    "print(\"Predicted Score = {}\".format(y_pred))"
   ]
  },
  {
   "cell_type": "markdown",
   "id": "45c32907",
   "metadata": {},
   "source": [
    "## Conclusion:\n",
    "#### According to The Model Trained on the available data:\n",
    "\n",
    "### **If a Student studied 9.25 Hrs, he/she will get a estimate score of 92.9%.**"
   ]
  }
 ],
 "metadata": {
  "kernelspec": {
   "display_name": "Python 3",
   "language": "python",
   "name": "python3"
  },
  "language_info": {
   "codemirror_mode": {
    "name": "ipython",
    "version": 3
   },
   "file_extension": ".py",
   "mimetype": "text/x-python",
   "name": "python",
   "nbconvert_exporter": "python",
   "pygments_lexer": "ipython3",
   "version": "3.8.8"
  }
 },
 "nbformat": 4,
 "nbformat_minor": 5
}
